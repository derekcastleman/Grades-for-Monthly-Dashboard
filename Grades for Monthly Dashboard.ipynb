{
 "cells": [
  {
   "cell_type": "markdown",
   "metadata": {},
   "source": [
    "1. Pull Missing Assignments through Query - this can be done for the whole district\n",
    "2. Pull all grades through Query - this can be done for the whole district\n",
    "3. Calculate # Missing assignments by School and Grade and Student\n",
    "4. Merge gradebook onto this list\n",
    "5. Calculate needed metrics for exec dashboard\n",
    "\n",
    "This file can be used to calculate D's and F's, # missing assignments, # avg missing assignments, which courses have the most missing assignments (top 5)\n",
    "\n",
    "##### Query to pull missing assignments (whole-district):\n",
    "\n",
    "LIST STU GBU GBS GBA GBK GBR TCH STU.ID STU.NM STU.GR STU.SC GBK.GN GBR.CD GBK.NM GBK.PD TCH.TE GBU.D1 GBU.CSC GBU.CMK GBA.AN GBA.AD GBA.DD GBA.GC GBS.MK GBA.MX IF GBS.MK = \" \" AND GBS.MX > 0 AND GBA.GC = 1 AND GBA.DD >= GBR.SD AND GBA.DD <= GBR.ED AND GBK.SC = TCH.SC\n",
    "\n",
    "Student must have Mark1 = Null for it to be missing.\n",
    "\n",
    "##### Query to pull all grades (whole-district):\n",
    "LIST STU GBU GBK GBR STU.SC STU.ID STU.NM STU.GR GBK.PD GBK.NM GBR.CD GBU.CMK GBU.TG GBU.CSC \n",
    "\n",
    "Cannot query whole district for all assignments (must only pull missing), query limit is 100,000\n",
    "\n",
    "##### Query to pull courses (whole-district) make sure to delete duplicates:\n",
    "LIST CRS E1 C3 CN CO CR MC\n",
    "\n"
   ]
  },
  {
   "cell_type": "code",
   "execution_count": null,
   "metadata": {},
   "outputs": [],
   "source": [
    "import pandas as pd\n",
    "import numpy as np"
   ]
  },
  {
   "cell_type": "code",
   "execution_count": null,
   "metadata": {},
   "outputs": [],
   "source": [
    "# WHAT MONTH IS THIS DATA?\n",
    "\n",
    "month = 'October'\n",
    "date = '10/31/2024'\n",
    "\n",
    "# CHANGE THE FILE INPUT AND OUTPUT PATHS #\n",
    "# Input files\n",
    "grades_file = r\"C:\\Users\\derek.castleman\\Desktop\\MonthlyDataPull\\2024-2025\\October\\Gradebook.xlsx\"\n",
    "assignments_file = r\"C:\\Users\\derek.castleman\\Desktop\\MonthlyDataPull\\2024-2025\\October\\Missing Assignments.xlsx\"\n",
    "# Output files\n",
    "output_missing_assignment_by_student = \"C:\\\\Users\\\\derek.castleman\\Desktop\\\\MonthlyDataPull\\\\2024-2025\\\\October\\\\Missing Assignment by Student_10312024.xlsx\"\n",
    "output_intermediate = \"C:\\\\Users\\\\derek.castleman\\\\Desktop\\\\MonthlyDataPull\\\\2024-2025\\\\October\\\\Student_Assignments_Grades_10312024.xlsx\"\n",
    "output_final = \"C:\\\\Users\\\\derek.castleman\\\\Desktop\\\\MonthlyDataPull\\\\2024-2025\\\\October\\\\Liping_Grades_File_10312024_final.xlsx\"\n",
    "\n",
    "# Load in the month's previous file for appending\n",
    "#previous_month = r\"C:\\Users\\derek.castleman\\Desktop\\MonthlyDataPull\\January2023\\Student_Assignments_Grades_01312023_blank.xlsx\"\n",
    "\n",
    "#BC and A-G Course reference \n",
    "crs = r\"C:\\Users\\derek.castleman\\Desktop\\MonthlyDataPull\\2024-2025\\October\\Courses.xlsx\"\n"
   ]
  },
  {
   "cell_type": "code",
   "execution_count": null,
   "metadata": {},
   "outputs": [],
   "source": [
    "#Load in the files for missing assignments and student grades\n",
    "missing = pd.read_excel(assignments_file)\n",
    "\n",
    "grades = pd.read_excel(grades_file)\n"
   ]
  },
  {
   "cell_type": "code",
   "execution_count": null,
   "metadata": {},
   "outputs": [],
   "source": [
    "#Sneak peek of missing assignments dataframe\n",
    "print(f\"Length of missing assignments file: {len(missing)}\")\n",
    "missing[:2]"
   ]
  },
  {
   "cell_type": "code",
   "execution_count": null,
   "metadata": {},
   "outputs": [],
   "source": [
    "# Keep only assignments that were due after the start date\n",
    "\n",
    "#Student ID: 1093132 Health science should end up with 8 and not 12\n",
    "\n",
    "missing['Start Date'] = pd.to_datetime(missing['Start Date'])\n",
    "missing['Due Date'] = pd.to_datetime(missing['Due Date'])\n",
    "\n",
    "missing = missing[missing['Due Date']>= missing['Start Date']]"
   ]
  },
  {
   "cell_type": "code",
   "execution_count": null,
   "metadata": {},
   "outputs": [],
   "source": [
    "a = input('What is the start date you are interested in (mm/dd/yyyy):          ') #Input start date"
   ]
  },
  {
   "cell_type": "code",
   "execution_count": null,
   "metadata": {},
   "outputs": [],
   "source": [
    "a = pd.to_datetime(a) # Change start date to datetime\n",
    "a"
   ]
  },
  {
   "cell_type": "code",
   "execution_count": null,
   "metadata": {},
   "outputs": [],
   "source": [
    "b = input('What is the end date you are interested in (mm/dd/yyyy):          ') #Input end date"
   ]
  },
  {
   "cell_type": "code",
   "execution_count": null,
   "metadata": {},
   "outputs": [],
   "source": [
    "b = pd.to_datetime(b) # Turn end date to date time\n",
    "b"
   ]
  },
  {
   "cell_type": "code",
   "execution_count": null,
   "metadata": {},
   "outputs": [],
   "source": [
    "missing = missing[(missing['Due Date'] >=a) & (missing['Due Date'] <=b)]\n",
    "missing"
   ]
  },
  {
   "cell_type": "code",
   "execution_count": null,
   "metadata": {},
   "outputs": [],
   "source": [
    "#Sneak peek of grades dataframe\n",
    "print(f\"Length of gradebook file: {len(grades)}\")\n",
    "print(set(grades['Term']))\n",
    "grades[:2]\n"
   ]
  },
  {
   "cell_type": "code",
   "execution_count": null,
   "metadata": {},
   "outputs": [],
   "source": [
    "#Sum up the number of missing assignments per student per course\n",
    "bystu = missing.groupby(by=['Student ID',\n",
    "                            'Student Name',\n",
    "                            'Name1',\n",
    "                            'School',\n",
    "                           'Grade',\n",
    "                           'Pd'])['Complete'].count().reset_index().rename(columns={'Complete':'# Missing Assignments'})\n",
    "\n"
   ]
  },
  {
   "cell_type": "code",
   "execution_count": null,
   "metadata": {},
   "outputs": [],
   "source": [
    "bystu"
   ]
  },
  {
   "cell_type": "code",
   "execution_count": null,
   "metadata": {},
   "outputs": [],
   "source": [
    "grades"
   ]
  },
  {
   "cell_type": "code",
   "execution_count": null,
   "metadata": {},
   "outputs": [],
   "source": [
    "# Merge the student grades file with the dataframe containing missing assignments by student and course\n",
    "\n",
    "\n",
    "m1 = bystu.merge(grades,\n",
    "                 on=['Student ID',\n",
    "                     'Name1',\n",
    "                     'Student Name',\n",
    "                     'School',\n",
    "                    'Pd'],\n",
    "                 how='right').sort_values('Student ID')\n",
    "\n",
    "# Filter out any courses that are incomplete\n",
    "m1 = m1[m1['Status'] != 'I']\n",
    "\n",
    "#Fill in NAN missing assignments with 0\n",
    "m1['# Missing Assignments'] = m1['# Missing Assignments'].fillna(0)\n",
    "m1.loc[m1[m1['School'].isin([1,2,4])].index, 'LEA'] = 'Delano'\n",
    "m1.loc[m1[m1['School'].isin([6,7,8])].index, 'LEA'] = 'Lost Hills'\n",
    "#Change school name to legible name\n",
    "schools = {1:\"Delano Secondary\",\n",
    "          2:\"Delano Secondary\",\n",
    "          4:\"Delano Elementary\",\n",
    "          6:\"Lost Hills Elementary\",\n",
    "          7:\"Lost Hills Secondary\",\n",
    "          8:\"Lost Hills Secondary\"}\n",
    "\n",
    "m1.replace({'School':schools},inplace=True)\n",
    "\n",
    "# Create new column that marks a D or F as 1, anything else as 0\n",
    "m1['D or F?'] = 0 \n",
    "m1.loc[m1[m1['OverallMark'].isin(['D','D+','D-','F'])].index, 'D or F?'] = 1\n",
    "\n",
    "m1['Month'] = month\n",
    "\n",
    "# Create Grade Categories\n",
    "m1.loc[m1[m1['OverallMark'].isin(['A','A-','A+'])].index, 'Grade Category'] = 'A'\n",
    "m1.loc[m1[m1['OverallMark'].isin(['B','B-','B+'])].index, 'Grade Category'] = 'B'\n",
    "m1.loc[m1[m1['OverallMark'].isin(['C','C-','C+'])].index, 'Grade Category'] = 'C'\n",
    "m1.loc[m1[m1['OverallMark'].isin(['D','D-','D+','F'])].index, 'Grade Category'] = 'D/F'\n",
    "m1.loc[m1[m1['OverallMark'].isnull()].index, 'Grade Category'] = 'No Grade'\n",
    "\n",
    "# Calculate the # of D or Fs per student\n",
    "df_by_stu = m1.groupby(by='Student ID')['D or F?'].sum().reset_index().rename(columns={'D or F?':'# D/F per student'})\n",
    "\n",
    "# Merge with original dataframe\n",
    "m2 = m1.merge(df_by_stu, on='Student ID').reset_index().drop('index',axis=1)\n",
    "\n",
    "\n",
    "# Create D/F Categories\n",
    "m2.loc[m2[m2['# D/F per student']==0].index,'D/F Category'] = '0'\n",
    "m2.loc[m2[m2['# D/F per student']==1].index,'D/F Category'] = '1'\n",
    "m2.loc[m2[m2['# D/F per student']==2].index,'D/F Category'] = '2'\n",
    "m2.loc[m2[m2['# D/F per student']>=3].index,'D/F Category'] = '3+'\n",
    "\n",
    "#Write to file\n",
    "m2.to_excel(output_missing_assignment_by_student, index=False)"
   ]
  },
  {
   "cell_type": "code",
   "execution_count": null,
   "metadata": {},
   "outputs": [],
   "source": [
    "m2"
   ]
  },
  {
   "cell_type": "code",
   "execution_count": null,
   "metadata": {},
   "outputs": [],
   "source": [
    "import base64\n",
    "from IPython.display import HTML\n",
    "\n",
    "def create_download_link( df, title = \"Missing Assignments\", filename = \"Missing Assignments\"):\n",
    "    csv = df.to_csv()\n",
    "    b64 = base64.b64encode(csv.encode())\n",
    "    payload = b64.decode()\n",
    "    html = '<a download=\"{filename}\" href=\"data:text/csv;base64,{payload}\" target=\"_blank\">{title}</a>'\n",
    "    html = html.format(payload=payload,title=title,filename=filename)\n",
    "    return HTML(html)\n",
    "\n",
    "create_download_link(m2)"
   ]
  },
  {
   "cell_type": "code",
   "execution_count": null,
   "metadata": {},
   "outputs": [],
   "source": [
    "set(m2['D/F Category'])"
   ]
  },
  {
   "cell_type": "code",
   "execution_count": null,
   "metadata": {},
   "outputs": [],
   "source": [
    "# Read in Courses file\n",
    "crs1 = pd.read_excel(crs)"
   ]
  },
  {
   "cell_type": "code",
   "execution_count": null,
   "metadata": {},
   "outputs": [],
   "source": [
    "m2.groupby(by = 'School')['# Missing Assignments'].sum()"
   ]
  },
  {
   "cell_type": "code",
   "execution_count": null,
   "metadata": {},
   "outputs": [],
   "source": [
    "# Add in A-G and BC information from CRS table\n",
    "m3 = crs1.merge(m2, left_on='Course title', right_on='Name1', how='right')"
   ]
  },
  {
   "cell_type": "code",
   "execution_count": null,
   "metadata": {},
   "outputs": [],
   "source": [
    "# Write dataframe to file for records\n",
    "m3.to_excel(output_intermediate,index=False)"
   ]
  },
  {
   "cell_type": "code",
   "execution_count": null,
   "metadata": {},
   "outputs": [],
   "source": [
    "m3.groupby(by = 'School')['# Missing Assignments'].sum()"
   ]
  },
  {
   "cell_type": "code",
   "execution_count": null,
   "metadata": {},
   "outputs": [],
   "source": [
    "# Append this dataframe to previous month\n",
    "#pm = pd.read_excel(previous_month)\n",
    "\n",
    "pm2 = m3\n",
    "\n",
    "# Output to file - THIS WILL BE THE STUDENT LEVEL RECORD OF THE CALCULATIONS\n",
    "pm2.to_excel(output_final, index=False)"
   ]
  },
  {
   "cell_type": "code",
   "execution_count": null,
   "metadata": {},
   "outputs": [],
   "source": [
    "#pm2 = pd.read_excel('~/Documents/WCPA/Executive Dashboard/Output/Student_Assignments_Grades_10282021.xlsx')"
   ]
  },
  {
   "cell_type": "code",
   "execution_count": null,
   "metadata": {},
   "outputs": [],
   "source": [
    "pm2.groupby(by=['School','Month'])['# Missing Assignments'].sum().reset_index().rename(columns={'# Missing Assignments':'# Missing Assignments by School'})"
   ]
  },
  {
   "cell_type": "code",
   "execution_count": null,
   "metadata": {},
   "outputs": [],
   "source": [
    "# Enrollment by school and grade level and all\n",
    "\n",
    "# Calculate # unique students at each school to get the enrollment numbers\n",
    "\n",
    "e1 = pm2.groupby(by=['School','Month'])['Student ID'].apply(lambda x: len(x.dropna().unique())).reset_index()\n",
    "e1.rename(columns={'Student ID':'Enrollment'}, inplace=True)\n",
    "e1['Grade'] = 99"
   ]
  },
  {
   "cell_type": "code",
   "execution_count": null,
   "metadata": {},
   "outputs": [],
   "source": [
    "e1"
   ]
  },
  {
   "cell_type": "code",
   "execution_count": null,
   "metadata": {},
   "outputs": [],
   "source": [
    "pm2"
   ]
  },
  {
   "cell_type": "code",
   "execution_count": null,
   "metadata": {},
   "outputs": [],
   "source": [
    "# Calculate # unique students at each school and grade level to get the enrollment numbers\n",
    "e2 = pm2.groupby(by=['School','Month','Grade_y'])['Student ID'].apply(lambda x: len(x.dropna().unique())).reset_index()\n",
    "e2.rename(columns={'Student ID':'Enrollment'}, inplace=True)\n",
    "\n",
    "# Calculate # unique students by month to get the enrollment numbers   \n",
    "e3 = pm2.groupby(by=['Month','LEA'])['Student ID'].apply(lambda x: len(x.dropna().unique())).reset_index()\n",
    "e3.rename(columns={'Student ID':'Enrollment'}, inplace=True)  \n",
    "e3['Grade'] = 99\n",
    "e3['School'] = e3['LEA']\n",
    "\n",
    "final_e = e1.append(e2, sort=True).append(e3, sort=True).sort_values(['Month','School','Grade'])"
   ]
  },
  {
   "cell_type": "code",
   "execution_count": null,
   "metadata": {},
   "outputs": [],
   "source": [
    "# Number of A,B,C, D/F by school and all\n",
    "\n",
    "# Calculate # grades in grade categories at each school\n",
    "g1 = pd.crosstab([pm2['School'],pm2['Month']],pm2['Grade Category'],\n",
    "           values='Sudent ID', aggfunc=np.count_nonzero).reset_index()\n",
    "g1['Grade'] = 99\n",
    "\n",
    "\n",
    "# Calculate # grades in grade categories at each school and grade level\n",
    "g2 = pd.crosstab([pm2['School'],pm2['Month'],pm2['Grade_y']],pm2['Grade Category'],\n",
    "           values='Sudent ID', aggfunc=np.count_nonzero).reset_index()\n",
    "\n",
    "\n",
    "# Calculate # grades in grade categories at each school and grade level and LEA \n",
    "g3 = pd.crosstab([pm2['LEA'],pm2['Month']],pm2['Grade Category'],\n",
    "           values='Sudent ID', aggfunc=np.count_nonzero).reset_index()\n",
    "g3['Grade'] = 99\n",
    "g3['School'] = e3['LEA']\n",
    "\n",
    "final_g = g1.append(g2, sort=True).append(g3, sort=True).sort_values(['Month','School','Grade']).drop('LEA',\n",
    "                                                                                                      axis=1)\n"
   ]
  },
  {
   "cell_type": "code",
   "execution_count": null,
   "metadata": {},
   "outputs": [],
   "source": [
    "# % of students with 1, 2 or 3+ failed by school and all\n",
    "# Calculate # grades in grade categories at each school\n",
    "\n",
    "d1 = pd.crosstab([pm2['School'],pm2['Month']],pm2['D/F Category'],\n",
    "           values=pm2['Student ID'],\n",
    "            aggfunc=lambda x: len(x.dropna().unique()),\n",
    "            normalize='index').reset_index()\n",
    "d1['Grade'] = 99\n",
    "\n",
    "grade_cols = {'0':'D/F Category = 0',\n",
    "                  '1':'D/F Category = 1',\n",
    "                  '2':'D/F Category = 2',\n",
    "                  '3+':'D/F Category = 3+'}\n",
    "\n",
    "d1.rename(columns=grade_cols, inplace=True)\n",
    "\n",
    "# Calculate # grades in grade categories at each school and grade level\n",
    "d2 = pd.crosstab([pm2['School'],pm2['Month'],pm2['Grade_y']],pm2['D/F Category'],\n",
    "           values=pm2['Student ID'],\n",
    "            aggfunc=lambda x: len(x.dropna().unique()),\n",
    "            normalize='index').reset_index()\n",
    "\n",
    "d2.rename(columns=grade_cols, inplace=True)\n",
    "\n",
    "\n",
    "# Calculate # grades in grade categories at each school and grade level and LEA \n",
    "d3 = pd.crosstab([pm2['LEA'],pm2['Month']],pm2['D/F Category'],\n",
    "           values=pm2['Student ID'],\n",
    "            aggfunc=lambda x: len(x.dropna().unique()),\n",
    "            normalize='index').reset_index()\n",
    "\n",
    "d3.rename(columns=grade_cols, inplace=True)\n",
    "\n",
    "d3['Grade'] = 99\n",
    "d3['School'] = d3['LEA']\n",
    "\n",
    "final_d = d1.append(d2, sort=True).append(d3, sort=True).sort_values(['Month','School','Grade']).drop('LEA',\n",
    "                                                                                                      axis=1)\n",
    "\n"
   ]
  },
  {
   "cell_type": "code",
   "execution_count": null,
   "metadata": {},
   "outputs": [],
   "source": [
    "# Top 5 courses with D's/F's by school - only for most recent\n",
    "pm3 = pm2[pm2['Month']==month]\n",
    "\n",
    "df1 = pd.crosstab([pm3['School'],pm3['Name1'],pm3['Month']],pm3['D or F?'],\n",
    "           values=pm3['Student ID'],\n",
    "            aggfunc=lambda x: len(x.dropna().unique()),\n",
    "            normalize='index').reset_index().sort_values(['School',1],ascending=False)\n",
    "df2 = df1.groupby('School').head(5)\n"
   ]
  },
  {
   "cell_type": "code",
   "execution_count": null,
   "metadata": {},
   "outputs": [],
   "source": [
    "# Calculate # missing assignments by school by summing all missing assignments across students and course \n",
    "# - do this with Power BI instead?\n",
    "\n",
    "m2 = pm2.groupby(by=['School','Month'])['# Missing Assignments'].sum(). reset_index().rename(columns={'# Missing Assignments':'# Missing Assignments by School'})\n",
    "\n",
    "m3 = m2.merge(e1, on=['School','Month'])\n",
    "\n",
    "\n",
    "# Calculate Avg # missing Assignments by school\n",
    "m3['Avg Missing by School'] = m3['# Missing Assignments by School']/m3['Enrollment']\n",
    "\n"
   ]
  },
  {
   "cell_type": "code",
   "execution_count": null,
   "metadata": {},
   "outputs": [],
   "source": [
    "# Write all grades and assignment data to excel file\n",
    "writer = pd.ExcelWriter(output_final)\n",
    "final_g[['School','Month','Grade','A','B','C','D/F','No Grade']].to_excel(writer,\n",
    "                                                                          sheet_name='Grades',\n",
    "                                                                          index=False)\n",
    "final_e[['School','Month','Grade','Enrollment']].to_excel(writer, sheet_name='Enrollment',index=False)\n",
    "final_d[['School','Month','Grade','D/F Category = 0','D/F Category = 1','D/F Category = 2','D/F Category = 3+']].to_excel(writer, sheet_name='Ds and Fs',index=False)\n",
    "m3.to_excel(writer, sheet_name='Missing Assignments',index=False)\n",
    "df2.to_excel(writer, sheet_name='Top 5 Courses with D or F',index=False)\n",
    "\n",
    "writer.save()"
   ]
  },
  {
   "cell_type": "code",
   "execution_count": null,
   "metadata": {},
   "outputs": [],
   "source": []
  },
  {
   "cell_type": "code",
   "execution_count": null,
   "metadata": {},
   "outputs": [],
   "source": []
  },
  {
   "cell_type": "code",
   "execution_count": null,
   "metadata": {},
   "outputs": [],
   "source": []
  },
  {
   "cell_type": "code",
   "execution_count": null,
   "metadata": {},
   "outputs": [],
   "source": []
  },
  {
   "cell_type": "code",
   "execution_count": null,
   "metadata": {},
   "outputs": [],
   "source": []
  }
 ],
 "metadata": {
  "kernelspec": {
   "display_name": "Python 3 (ipykernel)",
   "language": "python",
   "name": "python3"
  },
  "language_info": {
   "codemirror_mode": {
    "name": "ipython",
    "version": 3
   },
   "file_extension": ".py",
   "mimetype": "text/x-python",
   "name": "python",
   "nbconvert_exporter": "python",
   "pygments_lexer": "ipython3",
   "version": "3.9.7"
  }
 },
 "nbformat": 4,
 "nbformat_minor": 4
}
